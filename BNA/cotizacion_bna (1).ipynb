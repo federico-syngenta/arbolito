{
 "cells": [
  {
   "cell_type": "markdown",
   "metadata": {},
   "source": [
    "## Selenium"
   ]
  },
  {
   "cell_type": "markdown",
   "metadata": {},
   "source": [
    "promp: \n",
    "\n",
    "* responder como un experto en una determinada area\n",
    "* para python\n",
    "* para edge (o que no utilice ningun navegador)"
   ]
  },
  {
   "cell_type": "code",
   "execution_count": 1,
   "metadata": {},
   "outputs": [
    {
     "ename": "NameError",
     "evalue": "name 'Options' is not defined",
     "output_type": "error",
     "traceback": [
      "\u001b[1;31m---------------------------------------------------------------------------\u001b[0m",
      "\u001b[1;31mNameError\u001b[0m                                 Traceback (most recent call last)",
      "Cell \u001b[1;32mIn[1], line 6\u001b[0m\n\u001b[0;32m      3\u001b[0m \u001b[38;5;28;01mimport\u001b[39;00m \u001b[38;5;21;01mtime\u001b[39;00m\n\u001b[0;32m      5\u001b[0m \u001b[38;5;66;03m# Configuración de Selenium para Edge\u001b[39;00m\n\u001b[1;32m----> 6\u001b[0m edge_options \u001b[38;5;241m=\u001b[39m \u001b[43mOptions\u001b[49m()\n\u001b[0;32m      7\u001b[0m edge_options\u001b[38;5;241m.\u001b[39madd_argument(\u001b[38;5;124m\"\u001b[39m\u001b[38;5;124m--headless\u001b[39m\u001b[38;5;124m\"\u001b[39m)\n\u001b[0;32m      8\u001b[0m driver \u001b[38;5;241m=\u001b[39m webdriver\u001b[38;5;241m.\u001b[39mEdge(options\u001b[38;5;241m=\u001b[39medge_options) \n",
      "\u001b[1;31mNameError\u001b[0m: name 'Options' is not defined"
     ]
    }
   ],
   "source": [
    "from selenium import webdriver\n",
    "from selenium.webdriver.common.by import By\n",
    "import time\n",
    "\n",
    "# Configuración de Selenium para Edge\n",
    "edge_options = Options()\n",
    "edge_options.add_argument(\"--headless\")\n",
    "driver = webdriver.Edge(options=edge_options) \n",
    "\n",
    "try:\n",
    "    # Abrir la página del BNA\n",
    "    driver.get(\"https://www.bna.com.ar/\")\n",
    "    driver.maximize_window()\n",
    "    time.sleep(5)  # Esperar a que la página cargue\n",
    "\n",
    "    # Obtener la fecha de la cotización\n",
    "    fecha_cotizacion = driver.find_element(By.CLASS_NAME, 'fechaCot').text\n",
    "\n",
    "    # Obtener la cotización del dólar (compra y venta)\n",
    "    dolar_compra = driver.find_element(By.XPATH, '//*[@id=\"billetes\"]/table/tbody/tr[1]/td[2]').text\n",
    "    dolar_venta = driver.find_element(By.XPATH, '//*[@id=\"billetes\"]/table/tbody/tr[1]/td[3]').text\n",
    "\n",
    "    print(f\"Fecha de la cotización: {fecha_cotizacion}\")\n",
    "    print(f\"Cotización del dólar (Compra): {dolar_compra}\")\n",
    "    print(f\"Cotización del dólar (Venta): {dolar_venta}\")\n",
    "\n",
    "finally:\n",
    "    # Cerrar el navegador\n",
    "    driver.quit()"
   ]
  },
  {
   "cell_type": "markdown",
   "metadata": {},
   "source": [
    "## Playwright"
   ]
  },
  {
   "cell_type": "code",
   "execution_count": null,
   "metadata": {},
   "outputs": [],
   "source": [
    "from playwright.sync_api import sync_playwright\n",
    "\n",
    "# Función principal\n",
    "def obtener_cotizacion_dolar():\n",
    "    with sync_playwright() as p:\n",
    "        # Configuración de Playwright para Edge\n",
    "        browser = p.chromium.launch(headless=True)  # Playwright usa Chromium, que es compatible con Edge\n",
    "        page = browser.new_page()\n",
    "\n",
    "        # Abrir la página del BNA\n",
    "        page.goto(\"https://www.bna.com.ar/\")\n",
    "        page.wait_for_selector('table.table.cotizacion')  # Esperar a que la tabla cargue\n",
    "\n",
    "        # Obtener la fecha de la cotización\n",
    "        fecha_cotizacion = page.query_selector('div.fechaCot').inner_text()\n",
    "\n",
    "        # Obtener la cotización del dólar (compra y venta)\n",
    "        dolar_compra = page.query_selector('//table[@class=\"table cotizacion\"]//td[contains(text(), \"Dolar U.S.A\")]/following-sibling::td[1]').inner_text()\n",
    "        dolar_venta = page.query_selector('//table[@class=\"table cotizacion\"]//td[contains(text(), \"Dolar U.S.A\")]/following-sibling::td[2]').inner_text()\n",
    "\n",
    "        print(f\"Fecha de la cotización: {fecha_cotizacion}\")\n",
    "        print(f\"Cotización del dólar (Compra): {dolar_compra}\")\n",
    "        print(f\"Cotización del dólar (Venta): {dolar_venta}\")\n",
    "\n",
    "        # Cerrar el navegador\n",
    "        browser.close()\n",
    "\n",
    "# Ejecutar la función\n",
    "obtener_cotizacion_dolar()"
   ]
  }
 ],
 "metadata": {
  "kernelspec": {
   "display_name": "base",
   "language": "python",
   "name": "python3"
  },
  "language_info": {
   "codemirror_mode": {
    "name": "ipython",
    "version": 3
   },
   "file_extension": ".py",
   "mimetype": "text/x-python",
   "name": "python",
   "nbconvert_exporter": "python",
   "pygments_lexer": "ipython3",
   "version": "3.12.4"
  }
 },
 "nbformat": 4,
 "nbformat_minor": 2
}
